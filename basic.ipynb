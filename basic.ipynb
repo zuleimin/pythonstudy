{
 "metadata": {
  "language_info": {
   "codemirror_mode": {
    "name": "ipython",
    "version": 3
   },
   "file_extension": ".py",
   "mimetype": "text/x-python",
   "name": "python",
   "nbconvert_exporter": "python",
   "pygments_lexer": "ipython3",
   "version": 3
  },
  "orig_nbformat": 2
 },
 "nbformat": 4,
 "nbformat_minor": 2,
 "cells": [
  {
   "cell_type": "code",
   "execution_count": null,
   "metadata": {},
   "outputs": [],
   "source": [
    "this_year=2021\n",
    "name=input('your name:')\n",
    "age=int(input('age:'))\n",
    "sex=input('your sex')\n",
    "dep=input('your dep:')\n",
    "\n",
    "message='''Information of the company staff:\n",
    "         Name: %s\n",
    "         Age : %s\n",
    "         Sex : %s\n",
    "         Dep : %s\n",
    "         ''' %(name,age,sex,dep)\n",
    "\n",
    "print(message)"
   ]
  }
 ]
}