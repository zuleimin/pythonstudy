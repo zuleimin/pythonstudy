{
 "metadata": {
  "language_info": {
   "codemirror_mode": {
    "name": "ipython",
    "version": 3
   },
   "file_extension": ".py",
   "mimetype": "text/x-python",
   "name": "python",
   "nbconvert_exporter": "python",
   "pygments_lexer": "ipython3",
   "version": "3.8.5"
  },
  "orig_nbformat": 2,
  "kernelspec": {
   "name": "python3",
   "display_name": "Python 3.8.5 64-bit ('base': conda)"
  },
  "interpreter": {
   "hash": "b3ba2566441a7c06988d0923437866b63cedc61552a5af99d1f4fb67d367b25f"
  }
 },
 "nbformat": 4,
 "nbformat_minor": 2,
 "cells": [
  {
   "cell_type": "code",
   "execution_count": null,
   "metadata": {},
   "outputs": [],
   "source": [
    "this_year=2021\n",
    "name=input('your name:')\n",
    "age=int(input('age:'))\n",
    "sex=input('your sex')\n",
    "dep=input('your dep:')\n",
    "\n",
    "message='''Information of the company staff:\n",
    "         Name: %s\n",
    "         Age : %s\n",
    "         Sex : %s\n",
    "         Dep : %s\n",
    "         ''' %(name,age,sex,dep)\n",
    "\n",
    "print(message)"
   ]
  },
  {
   "cell_type": "code",
   "execution_count": null,
   "metadata": {},
   "outputs": [],
   "source": [
    "import sys\n",
    "\n",
    "user=\"zu\"\n",
    "this_year=2021\n",
    "\n",
    "while True:\n",
    "    \n",
    "name=input('your name:')\n",
    "age=int(input('age:'))\n",
    "sex=input('your sex')\n",
    "dep=input('your dep:')\n",
    "\n",
    "message='''Information of the company staff:\n",
    "         Name: %s\n",
    "         Age : %s\n",
    "         Sex : %s\n",
    "         Dep : %s\n",
    "         ''' %(name,age,sex,dep)\n",
    "\n",
    "print(message)"
   ]
  },
  {
   "cell_type": "code",
   "execution_count": 14,
   "metadata": {},
   "outputs": [
    {
     "output_type": "stream",
     "name": "stdout",
     "text": [
      "zuleimin father 1000\nlunana mother 2000\nzushaochen son 3000\n\n25\n25\n26\tfish\tfish\t4000\n25\n26\tfish\tfish\t4000\n25\n26\tfish\tfish\t4000\n25\n26\tfish\tfish\t4000\n"
     ]
    }
   ],
   "source": [
    "import os\n",
    "import fileinput\n",
    "f=open('contact_list.txt','a')\n",
    "f.write('\\n25')\n",
    "f.write('\\n26\\tfish\\tfish\\t4000')\n",
    "f.flush()\n",
    "f.close()\n",
    "read1=open('contact_list.txt')\n",
    "contact=read1.read()\n",
    "read1.close()\n",
    "print(contact)\n"
   ]
  },
  {
   "cell_type": "code",
   "execution_count": 2,
   "metadata": {},
   "outputs": [
    {
     "output_type": "stream",
     "name": "stdout",
     "text": [
      "1 * 1 = 1\n\n1 * 2 = 2\n2 * 2 = 4\n\n1 * 3 = 3\n2 * 3 = 6\n3 * 3 = 9\n\n1 * 4 = 4\n2 * 4 = 8\n3 * 4 = 12\n4 * 4 = 16\n\n1 * 5 = 5\n2 * 5 = 10\n3 * 5 = 15\n4 * 5 = 20\n5 * 5 = 25\n\n1 * 6 = 6\n2 * 6 = 12\n3 * 6 = 18\n4 * 6 = 24\n5 * 6 = 30\n6 * 6 = 36\n\n1 * 7 = 7\n2 * 7 = 14\n3 * 7 = 21\n4 * 7 = 28\n5 * 7 = 35\n6 * 7 = 42\n7 * 7 = 49\n\n1 * 8 = 8\n2 * 8 = 16\n3 * 8 = 24\n4 * 8 = 32\n5 * 8 = 40\n6 * 8 = 48\n7 * 8 = 56\n8 * 8 = 64\n\n1 * 9 = 9\n2 * 9 = 18\n3 * 9 = 27\n4 * 9 = 36\n5 * 9 = 45\n6 * 9 = 54\n7 * 9 = 63\n8 * 9 = 72\n9 * 9 = 81\n\n"
     ]
    }
   ],
   "source": []
  },
  {
   "cell_type": "code",
   "execution_count": null,
   "metadata": {},
   "outputs": [],
   "source": []
  },
  {
   "cell_type": "code",
   "execution_count": 16,
   "metadata": {},
   "outputs": [
    {
     "output_type": "stream",
     "name": "stdout",
     "text": [
      "1 * 1 = 1\n\n1 * 2 = 2\n2 * 2 = 4\n\n1 * 3 = 3\n2 * 3 = 6\n3 * 3 = 9\n\n1 * 4 = 4\n2 * 4 = 8\n3 * 4 = 12\n4 * 4 = 16\n\n1 * 5 = 5\n2 * 5 = 10\n3 * 5 = 15\n4 * 5 = 20\n5 * 5 = 25\n\n1 * 6 = 6\n2 * 6 = 12\n3 * 6 = 18\n4 * 6 = 24\n5 * 6 = 30\n6 * 6 = 36\n\n1 * 7 = 7\n2 * 7 = 14\n3 * 7 = 21\n4 * 7 = 28\n5 * 7 = 35\n6 * 7 = 42\n7 * 7 = 49\n\n1 * 8 = 8\n2 * 8 = 16\n3 * 8 = 24\n4 * 8 = 32\n5 * 8 = 40\n6 * 8 = 48\n7 * 8 = 56\n8 * 8 = 64\n\n1 * 9 = 9\n2 * 9 = 18\n3 * 9 = 27\n4 * 9 = 36\n5 * 9 = 45\n6 * 9 = 54\n7 * 9 = 63\n8 * 9 = 72\n9 * 9 = 81\n\n"
     ]
    }
   ],
   "source": [
    "import functions\n",
    "functions.multiple_table()"
   ]
  },
  {
   "cell_type": "code",
   "execution_count": 15,
   "metadata": {},
   "outputs": [
    {
     "output_type": "stream",
     "name": "stdout",
     "text": [
      "1 * 1 = 1\n\n1 * 2 = 2\n2 * 2 = 4\n\n1 * 3 = 3\n2 * 3 = 6\n3 * 3 = 9\n\n1 * 4 = 4\n2 * 4 = 8\n3 * 4 = 12\n4 * 4 = 16\n\n1 * 5 = 5\n2 * 5 = 10\n3 * 5 = 15\n4 * 5 = 20\n5 * 5 = 25\n\n1 * 6 = 6\n2 * 6 = 12\n3 * 6 = 18\n4 * 6 = 24\n5 * 6 = 30\n6 * 6 = 36\n\n1 * 7 = 7\n2 * 7 = 14\n3 * 7 = 21\n4 * 7 = 28\n5 * 7 = 35\n6 * 7 = 42\n7 * 7 = 49\n\n1 * 8 = 8\n2 * 8 = 16\n3 * 8 = 24\n4 * 8 = 32\n5 * 8 = 40\n6 * 8 = 48\n7 * 8 = 56\n8 * 8 = 64\n\n1 * 9 = 9\n2 * 9 = 18\n3 * 9 = 27\n4 * 9 = 36\n5 * 9 = 45\n6 * 9 = 54\n7 * 9 = 63\n8 * 9 = 72\n9 * 9 = 81\n\n"
     ]
    }
   ],
   "source": [
    "import functions\n",
    "functions.multiple_table()"
   ]
  },
  {
   "cell_type": "code",
   "execution_count": null,
   "metadata": {},
   "outputs": [],
   "source": []
  }
 ]
}